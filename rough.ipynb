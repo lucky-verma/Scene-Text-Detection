{
 "cells": [
  {
   "cell_type": "code",
   "execution_count": 16,
   "metadata": {},
   "outputs": [],
   "source": [
    "import easyocr\n",
    "import cv2\n",
    "import random\n",
    "import numpy as np\n",
    "import imutils\n",
    "import matplotlib.pyplot as plt\n",
    "\n",
    "%matplotlib inline"
   ]
  },
  {
   "cell_type": "code",
   "execution_count": 20,
   "metadata": {},
   "outputs": [],
   "source": [
    "detections = [{\n",
    "    'bboxes': [\n",
    "    [\n",
    "        1857, 356, 1857, 362, 1855, 364, 1824, 364, 1824, 371, 1822, 373, 1808,\n",
    "        373, 1808, 379, 1806, 381, 1783, 381, 1783, 388, 1781, 390, 1758, 390,\n",
    "        1758, 396, 1756, 398, 1750, 398, 1750, 426, 1768, 426, 1768, 419, 1771,\n",
    "        417, 1793, 417, 1793, 411, 1795, 409, 1810, 409, 1810, 402, 1812, 400,\n",
    "        1835, 400, 1835, 394, 1837, 392, 1860, 392, 1860, 386, 1862, 383, 1884,\n",
    "        383, 1884, 356\n",
    "    ],\n",
    "               [\n",
    "                   1684, 466, 1684, 472, 1682, 474, 1659, 474, 1659, 480, 1657,\n",
    "                   483, 1634, 483, 1634, 489, 1632, 491, 1609, 491, 1609, 527,\n",
    "                   1628, 527, 1628, 521, 1630, 518, 1661, 518, 1661, 512, 1663,\n",
    "                   510, 1694, 510, 1694, 504, 1696, 502, 1719, 502, 1719, 466\n",
    "               ],\n",
    "               [\n",
    "                   1800, 561, 1800, 567, 1797, 569, 1775, 569, 1775, 588, 1851,\n",
    "                   588, 1851, 582, 1853, 580, 1860, 580, 1860, 561\n",
    "               ],\n",
    "               [\n",
    "                   1642, 577, 1642, 584, 1640, 586, 1617, 586, 1617, 592, 1615,\n",
    "                   594, 1601, 594, 1601, 618, 1603, 618, 1605, 620, 1605, 639,\n",
    "                   1632, 639, 1632, 637, 1634, 634, 1644, 634, 1644, 632, 1646,\n",
    "                   630, 1677, 630, 1677, 624, 1680, 622, 1686, 622, 1686, 594,\n",
    "                   1680, 594, 1677, 592, 1677, 577\n",
    "               ],\n",
    "               [\n",
    "                   1576, 594, 1576, 601, 1574, 603, 1543, 603, 1543, 647, 1570,\n",
    "                   647, 1570, 641, 1572, 639, 1603, 639, 1603, 620, 1597, 620,\n",
    "                   1595, 618, 1595, 594\n",
    "               ],\n",
    "               [\n",
    "                   1634, 637, 1634, 643, 1632, 645, 1593, 645, 1593, 681, 1686,\n",
    "                   681, 1686, 662, 1680, 662, 1677, 660, 1677, 658, 1680, 656,\n",
    "                   1686, 656, 1686, 637\n",
    "               ],\n",
    "               [\n",
    "                   1800, 696, 1800, 702, 1797, 704, 1783, 704, 1783, 723, 1835,\n",
    "                   723, 1835, 696\n",
    "               ], [1882, 704, 1882, 727, 1917, 727, 1917, 704],\n",
    "               [1882, 729, 1882, 748, 1917, 748, 1917, 729]],\n",
    "    'scores': [\n",
    "        0.9052858948707581, 0.925395667552948, 0.9141532182693481,\n",
    "        0.9358830451965332, 0.9069939255714417, 0.9215288758277893,\n",
    "        0.8235360980033875, 0.9075530767440796, 0.7763643264770508\n",
    "    ]\n",
    "}]\n"
   ]
  },
  {
   "cell_type": "code",
   "execution_count": 21,
   "metadata": {},
   "outputs": [],
   "source": [
    "# read image \n",
    "image = cv2.imread('yeka.png')"
   ]
  },
  {
   "cell_type": "code",
   "execution_count": 14,
   "metadata": {},
   "outputs": [],
   "source": [
    "# easyocr\n",
    "reader = easyocr.Reader(['ru'])\n",
    "\n",
    "\n",
    "# def draw(img, boxes):\n",
    "#     for pts in boxes:\n",
    "#         pts = np.array(pts).reshape((-1, 1, 2)).astype(np.int32)\n",
    "#         ## (1) Crop the bounding rect\n",
    "#         rect = cv2.boundingRect(pts)\n",
    "#         x,y,w,h = rect\n",
    "#         croped = img[y:y+h, x:x+w].copy()\n",
    "\n",
    "#         ## (2) make mask\n",
    "#         pts = pts - pts.min(axis=0)\n",
    "\n",
    "#         mask = np.zeros(croped.shape[:2], np.uint8)\n",
    "#         cv2.drawContours(mask, [pts], -1, (255, 255, 255), -1, cv2.LINE_AA)\n",
    "\n",
    "#         ## (3) do bit-op\n",
    "#         dst = cv2.bitwise_and(croped, croped, mask=mask)\n",
    "\n",
    "#         # plt.figure(figsize=(10, 10))\n",
    "#         plt.imshow(dst)\n",
    "#         plt.show()\n",
    "\n",
    "#         # text recognition\n",
    "#         print(\"Unfiltered\", reader.readtext(dst, detail=0))\n",
    "        \n",
    "\n",
    "\n",
    "# run the function\n",
    "# draw(image, detections[0]['bboxes'])"
   ]
  },
  {
   "cell_type": "code",
   "execution_count": 22,
   "metadata": {},
   "outputs": [
    {
     "data": {
      "image/png": "[encoded data removed]",
      "text/plain": [
       "<Figure size 1000x1000 with 1 Axes>"
      ]
     },
     "metadata": {},
     "output_type": "display_data"
    }
   ],
   "source": [
    "def draw(img, boxes):\n",
    "\n",
    "    mask = np.full((img.shape[0], img.shape[1]), 0, dtype=np.uint8)\n",
    "\n",
    "    for pts in boxes:\n",
    "        mask  = cv2.fillPoly(mask, pts =[np.array(pts).reshape((-1, 1, 2)).astype(np.int32)], color=(255,255,255))\n",
    "\n",
    "    # get first masked value (foreground)\n",
    "    masked = cv2.bitwise_and(image, image, mask=mask)\n",
    "\n",
    "    plt.figure(figsize=(10, 10))\n",
    "    plt.imshow(masked)\n",
    "    plt.show()\n",
    "\n",
    "# run the function\n",
    "draw(image, detections[0]['bboxes'])"
   ]
  },
  {
   "cell_type": "code",
   "execution_count": null,
   "metadata": {},
   "outputs": [],
   "source": []
  },
  {
   "attachments": {},
   "cell_type": "markdown",
   "metadata": {},
   "source": [
    "## This functions plots the boxes on the relevant images"
   ]
  },
  {
   "cell_type": "code",
   "execution_count": null,
   "metadata": {},
   "outputs": [],
   "source": [
    "import json\n",
    "\n",
    "# clear the cell output\n",
    "from IPython.display import clear_output\n",
    "\n",
    "def draw_poly(json_file, save_path):\n",
    "    with open(json_file) as f:\n",
    "        data = json.load(f)\n",
    "\n",
    "        # get the boxes for each image in img folder\n",
    "        for i in data.keys():\n",
    "            boxes = data[i]['FastResults'][0][\"bboxes\"]\n",
    "\n",
    "            # image path is key of the dictionary\n",
    "            image = cv2.imread(i)\n",
    "\n",
    "            for pts in boxes:\n",
    "                pts = np.array(pts).reshape((-1, 1, 2)).astype(np.int32)\n",
    "                cv2.polylines(image, [pts], True, (0, 255, 0), 2)\n",
    "\n",
    "            # plot the image\n",
    "            plt.figure(figsize=(20, 10))\n",
    "            plt.imshow(image)\n",
    "            \n",
    "            # save the image\n",
    "            plt.savefig(save_path + i.split('/')[-1][:-4] + '.png')\n",
    "\n",
    "            # clear cell output\n",
    "            clear_output()\n",
    "\n",
    "draw_poly('final_results.json', save_path='final_result/')"
   ]
  },
  {
   "cell_type": "code",
   "execution_count": null,
   "metadata": {},
   "outputs": [],
   "source": [
    "\n"
   ]
  },
  {
   "cell_type": "code",
   "execution_count": null,
   "metadata": {},
   "outputs": [],
   "source": []
  },
  {
   "cell_type": "code",
   "execution_count": null,
   "metadata": {},
   "outputs": [],
   "source": []
  },
  {
   "cell_type": "code",
   "execution_count": null,
   "metadata": {},
   "outputs": [],
   "source": []
  },
  {
   "cell_type": "code",
   "execution_count": null,
   "metadata": {},
   "outputs": [],
   "source": []
  },
  {
   "cell_type": "code",
   "execution_count": null,
   "metadata": {},
   "outputs": [],
   "source": []
  },
  {
   "cell_type": "code",
   "execution_count": null,
   "metadata": {},
   "outputs": [],
   "source": []
  },
  {
   "cell_type": "code",
   "execution_count": null,
   "metadata": {},
   "outputs": [],
   "source": []
  },
  {
   "cell_type": "code",
   "execution_count": null,
   "metadata": {},
   "outputs": [],
   "source": []
  },
  {
   "cell_type": "code",
   "execution_count": null,
   "metadata": {},
   "outputs": [],
   "source": []
  },
  {
   "cell_type": "code",
   "execution_count": null,
   "metadata": {},
   "outputs": [],
   "source": []
  },
  {
   "cell_type": "code",
   "execution_count": null,
   "metadata": {},
   "outputs": [],
   "source": []
  }
 ],
 "metadata": {
  "kernelspec": {
   "display_name": "donut",
   "language": "python",
   "name": "python3"
  },
  "language_info": {
   "codemirror_mode": {
    "name": "ipython",
    "version": 3
   },
   "file_extension": ".py",
   "mimetype": "text/x-python",
   "name": "python",
   "nbconvert_exporter": "python",
   "pygments_lexer": "ipython3",
   "version": "3.7.13"
  },
  "orig_nbformat": 4,
  "vscode": {
   "interpreter": {
    "hash": "68a6eb6064f56748220eeb8ab9b43836193ee1e182e8bfae67a4e848ff0f0163"
   }
  }
 },
 "nbformat": 4,
 "nbformat_minor": 2
}
